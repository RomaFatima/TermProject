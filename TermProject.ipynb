{
  "nbformat": 4,
  "nbformat_minor": 0,
  "metadata": {
    "colab": {
      "name": "TermProject.ipynb",
      "provenance": [],
      "collapsed_sections": []
    },
    "kernelspec": {
      "name": "python3",
      "display_name": "Python 3"
    },
    "language_info": {
      "name": "python"
    }
  },
  "cells": [
    {
      "cell_type": "code",
      "metadata": {
        "id": "z6Mt8jOoe3yK"
      },
      "source": [
        "import pandas as pd\n",
        "import numpy as np\n",
        "import math\n",
        "import operator"
      ],
      "execution_count": 566,
      "outputs": []
    },
    {
      "cell_type": "code",
      "metadata": {
        "id": "Y1hGCMLie7I5",
        "colab": {
          "base_uri": "https://localhost:8080/",
          "height": 206
        },
        "outputId": "6980af9a-f26c-4ce6-8a36-ba398009b77f"
      },
      "source": [
        "df = pd.read_csv('/content/Suicide_Detection.csv')\n",
        "df.head()"
      ],
      "execution_count": 567,
      "outputs": [
        {
          "output_type": "execute_result",
          "data": {
            "text/html": [
              "<div>\n",
              "<style scoped>\n",
              "    .dataframe tbody tr th:only-of-type {\n",
              "        vertical-align: middle;\n",
              "    }\n",
              "\n",
              "    .dataframe tbody tr th {\n",
              "        vertical-align: top;\n",
              "    }\n",
              "\n",
              "    .dataframe thead th {\n",
              "        text-align: right;\n",
              "    }\n",
              "</style>\n",
              "<table border=\"1\" class=\"dataframe\">\n",
              "  <thead>\n",
              "    <tr style=\"text-align: right;\">\n",
              "      <th></th>\n",
              "      <th>Unnamed: 0</th>\n",
              "      <th>text</th>\n",
              "      <th>class</th>\n",
              "    </tr>\n",
              "  </thead>\n",
              "  <tbody>\n",
              "    <tr>\n",
              "      <th>0</th>\n",
              "      <td>2</td>\n",
              "      <td>Ex Wife Threatening SuicideRecently I left my ...</td>\n",
              "      <td>suicide</td>\n",
              "    </tr>\n",
              "    <tr>\n",
              "      <th>1</th>\n",
              "      <td>3</td>\n",
              "      <td>Am I weird I don't get affected by compliments...</td>\n",
              "      <td>non-suicide</td>\n",
              "    </tr>\n",
              "    <tr>\n",
              "      <th>2</th>\n",
              "      <td>4</td>\n",
              "      <td>Finally 2020 is almost over... So I can never ...</td>\n",
              "      <td>non-suicide</td>\n",
              "    </tr>\n",
              "    <tr>\n",
              "      <th>3</th>\n",
              "      <td>8</td>\n",
              "      <td>i need helpjust help me im crying so hard</td>\n",
              "      <td>suicide</td>\n",
              "    </tr>\n",
              "    <tr>\n",
              "      <th>4</th>\n",
              "      <td>9</td>\n",
              "      <td>I’m so lostHello, my name is Adam (16) and I’v...</td>\n",
              "      <td>suicide</td>\n",
              "    </tr>\n",
              "  </tbody>\n",
              "</table>\n",
              "</div>"
            ],
            "text/plain": [
              "   Unnamed: 0                                               text        class\n",
              "0           2  Ex Wife Threatening SuicideRecently I left my ...      suicide\n",
              "1           3  Am I weird I don't get affected by compliments...  non-suicide\n",
              "2           4  Finally 2020 is almost over... So I can never ...  non-suicide\n",
              "3           8          i need helpjust help me im crying so hard      suicide\n",
              "4           9  I’m so lostHello, my name is Adam (16) and I’v...      suicide"
            ]
          },
          "metadata": {},
          "execution_count": 567
        }
      ]
    },
    {
      "cell_type": "code",
      "metadata": {
        "id": "HFCRG-Mmgc5y",
        "colab": {
          "base_uri": "https://localhost:8080/",
          "height": 206
        },
        "outputId": "071b6de2-9f32-4709-c5a6-839bae3d5f90"
      },
      "source": [
        "dataframe=df.rename(columns={\"class\": \"situation\"})\n",
        "inputs = dataframe.drop(['Unnamed: 0'],axis=1,inplace=True)\n",
        "dummies = pd.get_dummies(dataframe.situation)\n",
        "dummies.head(3)\n",
        "dataframe.head()"
      ],
      "execution_count": 568,
      "outputs": [
        {
          "output_type": "execute_result",
          "data": {
            "text/html": [
              "<div>\n",
              "<style scoped>\n",
              "    .dataframe tbody tr th:only-of-type {\n",
              "        vertical-align: middle;\n",
              "    }\n",
              "\n",
              "    .dataframe tbody tr th {\n",
              "        vertical-align: top;\n",
              "    }\n",
              "\n",
              "    .dataframe thead th {\n",
              "        text-align: right;\n",
              "    }\n",
              "</style>\n",
              "<table border=\"1\" class=\"dataframe\">\n",
              "  <thead>\n",
              "    <tr style=\"text-align: right;\">\n",
              "      <th></th>\n",
              "      <th>text</th>\n",
              "      <th>situation</th>\n",
              "    </tr>\n",
              "  </thead>\n",
              "  <tbody>\n",
              "    <tr>\n",
              "      <th>0</th>\n",
              "      <td>Ex Wife Threatening SuicideRecently I left my ...</td>\n",
              "      <td>suicide</td>\n",
              "    </tr>\n",
              "    <tr>\n",
              "      <th>1</th>\n",
              "      <td>Am I weird I don't get affected by compliments...</td>\n",
              "      <td>non-suicide</td>\n",
              "    </tr>\n",
              "    <tr>\n",
              "      <th>2</th>\n",
              "      <td>Finally 2020 is almost over... So I can never ...</td>\n",
              "      <td>non-suicide</td>\n",
              "    </tr>\n",
              "    <tr>\n",
              "      <th>3</th>\n",
              "      <td>i need helpjust help me im crying so hard</td>\n",
              "      <td>suicide</td>\n",
              "    </tr>\n",
              "    <tr>\n",
              "      <th>4</th>\n",
              "      <td>I’m so lostHello, my name is Adam (16) and I’v...</td>\n",
              "      <td>suicide</td>\n",
              "    </tr>\n",
              "  </tbody>\n",
              "</table>\n",
              "</div>"
            ],
            "text/plain": [
              "                                                text    situation\n",
              "0  Ex Wife Threatening SuicideRecently I left my ...      suicide\n",
              "1  Am I weird I don't get affected by compliments...  non-suicide\n",
              "2  Finally 2020 is almost over... So I can never ...  non-suicide\n",
              "3          i need helpjust help me im crying so hard      suicide\n",
              "4  I’m so lostHello, my name is Adam (16) and I’v...      suicide"
            ]
          },
          "metadata": {},
          "execution_count": 568
        }
      ]
    },
    {
      "cell_type": "code",
      "metadata": {
        "id": "UGTYOvxsffcu",
        "colab": {
          "base_uri": "https://localhost:8080/",
          "height": 143
        },
        "outputId": "3a2ae07c-9ff8-4310-bfbf-7230e7787a76"
      },
      "source": [
        " dataframe= pd.concat([dataframe,dummies],axis='columns')\n",
        "dataframe.head(3)"
      ],
      "execution_count": 569,
      "outputs": [
        {
          "output_type": "execute_result",
          "data": {
            "text/html": [
              "<div>\n",
              "<style scoped>\n",
              "    .dataframe tbody tr th:only-of-type {\n",
              "        vertical-align: middle;\n",
              "    }\n",
              "\n",
              "    .dataframe tbody tr th {\n",
              "        vertical-align: top;\n",
              "    }\n",
              "\n",
              "    .dataframe thead th {\n",
              "        text-align: right;\n",
              "    }\n",
              "</style>\n",
              "<table border=\"1\" class=\"dataframe\">\n",
              "  <thead>\n",
              "    <tr style=\"text-align: right;\">\n",
              "      <th></th>\n",
              "      <th>text</th>\n",
              "      <th>situation</th>\n",
              "      <th>non-suicide</th>\n",
              "      <th>suicide</th>\n",
              "    </tr>\n",
              "  </thead>\n",
              "  <tbody>\n",
              "    <tr>\n",
              "      <th>0</th>\n",
              "      <td>Ex Wife Threatening SuicideRecently I left my ...</td>\n",
              "      <td>suicide</td>\n",
              "      <td>0</td>\n",
              "      <td>1</td>\n",
              "    </tr>\n",
              "    <tr>\n",
              "      <th>1</th>\n",
              "      <td>Am I weird I don't get affected by compliments...</td>\n",
              "      <td>non-suicide</td>\n",
              "      <td>1</td>\n",
              "      <td>0</td>\n",
              "    </tr>\n",
              "    <tr>\n",
              "      <th>2</th>\n",
              "      <td>Finally 2020 is almost over... So I can never ...</td>\n",
              "      <td>non-suicide</td>\n",
              "      <td>1</td>\n",
              "      <td>0</td>\n",
              "    </tr>\n",
              "  </tbody>\n",
              "</table>\n",
              "</div>"
            ],
            "text/plain": [
              "                                                text  ... suicide\n",
              "0  Ex Wife Threatening SuicideRecently I left my ...  ...       1\n",
              "1  Am I weird I don't get affected by compliments...  ...       0\n",
              "2  Finally 2020 is almost over... So I can never ...  ...       0\n",
              "\n",
              "[3 rows x 4 columns]"
            ]
          },
          "metadata": {},
          "execution_count": 569
        }
      ]
    },
    {
      "cell_type": "code",
      "metadata": {
        "id": "SNGqsHPnoW4r",
        "colab": {
          "base_uri": "https://localhost:8080/",
          "height": 206
        },
        "outputId": "13fb9cf6-2040-4e35-9b91-d02cac7e754e"
      },
      "source": [
        "inputs=dataframe.drop(['situation','non-suicide'],axis=1,inplace=True)\n",
        "target = dataframe.suicide\n",
        "dataframe.head()"
      ],
      "execution_count": 570,
      "outputs": [
        {
          "output_type": "execute_result",
          "data": {
            "text/html": [
              "<div>\n",
              "<style scoped>\n",
              "    .dataframe tbody tr th:only-of-type {\n",
              "        vertical-align: middle;\n",
              "    }\n",
              "\n",
              "    .dataframe tbody tr th {\n",
              "        vertical-align: top;\n",
              "    }\n",
              "\n",
              "    .dataframe thead th {\n",
              "        text-align: right;\n",
              "    }\n",
              "</style>\n",
              "<table border=\"1\" class=\"dataframe\">\n",
              "  <thead>\n",
              "    <tr style=\"text-align: right;\">\n",
              "      <th></th>\n",
              "      <th>text</th>\n",
              "      <th>suicide</th>\n",
              "    </tr>\n",
              "  </thead>\n",
              "  <tbody>\n",
              "    <tr>\n",
              "      <th>0</th>\n",
              "      <td>Ex Wife Threatening SuicideRecently I left my ...</td>\n",
              "      <td>1</td>\n",
              "    </tr>\n",
              "    <tr>\n",
              "      <th>1</th>\n",
              "      <td>Am I weird I don't get affected by compliments...</td>\n",
              "      <td>0</td>\n",
              "    </tr>\n",
              "    <tr>\n",
              "      <th>2</th>\n",
              "      <td>Finally 2020 is almost over... So I can never ...</td>\n",
              "      <td>0</td>\n",
              "    </tr>\n",
              "    <tr>\n",
              "      <th>3</th>\n",
              "      <td>i need helpjust help me im crying so hard</td>\n",
              "      <td>1</td>\n",
              "    </tr>\n",
              "    <tr>\n",
              "      <th>4</th>\n",
              "      <td>I’m so lostHello, my name is Adam (16) and I’v...</td>\n",
              "      <td>1</td>\n",
              "    </tr>\n",
              "  </tbody>\n",
              "</table>\n",
              "</div>"
            ],
            "text/plain": [
              "                                                text  suicide\n",
              "0  Ex Wife Threatening SuicideRecently I left my ...        1\n",
              "1  Am I weird I don't get affected by compliments...        0\n",
              "2  Finally 2020 is almost over... So I can never ...        0\n",
              "3          i need helpjust help me im crying so hard        1\n",
              "4  I’m so lostHello, my name is Adam (16) and I’v...        1"
            ]
          },
          "metadata": {},
          "execution_count": 570
        }
      ]
    },
    {
      "cell_type": "code",
      "metadata": {
        "id": "l0ey_lMNuKXF",
        "colab": {
          "base_uri": "https://localhost:8080/",
          "height": 206
        },
        "outputId": "c8ccbac8-6994-4bd7-95f8-8dcd4f8614be"
      },
      "source": [
        "dataframe.columns = dataframe.columns.str.replace(r\"[^a-zA-Z\\d\\_]+\", \"\")\n",
        "dataframe = dataframe.replace([\";\",\":\",\"=\",\"\\+\",\"<\", \">\", \"\\?\", \"!\", \"\\\\\\\\\", \"@\", \"#\", \"$\", \"\\*\", \"%\",\n",
        "                               \",\", \"\\.\", \"\\(\", \"\\)\", \"\\[\", \"\\]\", \"\\{\", \"\\}\", \"\\\"\", \"/br\"], \" \", regex = True)\n",
        "dataframe = dataframe.replace([\"' \", \" '\"], \"\", regex = True)\n",
        "dataframe.head()"
      ],
      "execution_count": 571,
      "outputs": [
        {
          "output_type": "execute_result",
          "data": {
            "text/html": [
              "<div>\n",
              "<style scoped>\n",
              "    .dataframe tbody tr th:only-of-type {\n",
              "        vertical-align: middle;\n",
              "    }\n",
              "\n",
              "    .dataframe tbody tr th {\n",
              "        vertical-align: top;\n",
              "    }\n",
              "\n",
              "    .dataframe thead th {\n",
              "        text-align: right;\n",
              "    }\n",
              "</style>\n",
              "<table border=\"1\" class=\"dataframe\">\n",
              "  <thead>\n",
              "    <tr style=\"text-align: right;\">\n",
              "      <th></th>\n",
              "      <th>text</th>\n",
              "      <th>suicide</th>\n",
              "    </tr>\n",
              "  </thead>\n",
              "  <tbody>\n",
              "    <tr>\n",
              "      <th>0</th>\n",
              "      <td>Ex Wife Threatening SuicideRecently I left my ...</td>\n",
              "      <td>1</td>\n",
              "    </tr>\n",
              "    <tr>\n",
              "      <th>1</th>\n",
              "      <td>Am I weird I don't get affected by compliments...</td>\n",
              "      <td>0</td>\n",
              "    </tr>\n",
              "    <tr>\n",
              "      <th>2</th>\n",
              "      <td>Finally 2020 is almost over    So I can never ...</td>\n",
              "      <td>0</td>\n",
              "    </tr>\n",
              "    <tr>\n",
              "      <th>3</th>\n",
              "      <td>i need helpjust help me im crying so hard</td>\n",
              "      <td>1</td>\n",
              "    </tr>\n",
              "    <tr>\n",
              "      <th>4</th>\n",
              "      <td>I’m so lostHello  my name is Adam  16  and I’v...</td>\n",
              "      <td>1</td>\n",
              "    </tr>\n",
              "  </tbody>\n",
              "</table>\n",
              "</div>"
            ],
            "text/plain": [
              "                                                text  suicide\n",
              "0  Ex Wife Threatening SuicideRecently I left my ...        1\n",
              "1  Am I weird I don't get affected by compliments...        0\n",
              "2  Finally 2020 is almost over    So I can never ...        0\n",
              "3         i need helpjust help me im crying so hard         1\n",
              "4  I’m so lostHello  my name is Adam  16  and I’v...        1"
            ]
          },
          "metadata": {},
          "execution_count": 571
        }
      ]
    },
    {
      "cell_type": "code",
      "metadata": {
        "id": "vfR9-L_BxOvC"
      },
      "source": [
        "df_train = pd.DataFrame()\n",
        "df_dev = pd.DataFrame()\n",
        "df_test = pd.DataFrame()\n",
        "split_1 = int(0.1 * len(dataframe))\n",
        "split_2 = int(0.5 * len(dataframe))\n",
        "df_train = dataframe[:split_1]\n",
        "df_dev = dataframe[split_1:split_2]\n",
        "df_test = dataframe[split_2:]"
      ],
      "execution_count": 572,
      "outputs": []
    },
    {
      "cell_type": "code",
      "metadata": {
        "id": "gjXd_06BRq3K"
      },
      "source": [
        "df_train_len = len(df_train)\n",
        "\n",
        "df_train_pos_len = len(df_train[df_train['suicide'] == 0])\n",
        "df_train_neg_len = len(df_train[df_train['suicide'] == 1])\n",
        "prob_pos_train = df_train_pos_len / df_train_len\n",
        "prob_neg_train = df_train_neg_len / df_train_len"
      ],
      "execution_count": 573,
      "outputs": []
    },
    {
      "cell_type": "code",
      "metadata": {
        "id": "PTke8PktwK4L"
      },
      "source": [
        "wordfreq = dict()\n",
        "wordfreq_pos = dict()\n",
        "wordfreq_neg = dict()\n",
        "for ind in df_train.index:\n",
        "    review_set = set(df_train['text'][ind].lower().split())\n",
        "    for word in review_set:\n",
        "        if word in wordfreq:\n",
        "            wordfreq[word] += 1\n",
        "        else:\n",
        "            wordfreq[word] = 1\n",
        "        \n",
        "        if df_train['suicide'][ind] == 0:\n",
        "            if word in wordfreq_pos:\n",
        "                wordfreq_pos[word] += 1\n",
        "            else:\n",
        "                wordfreq_pos[word] = 1\n",
        "        else:\n",
        "            if word in wordfreq_neg:\n",
        "                wordfreq_neg[word] += 1\n",
        "            else:\n",
        "                wordfreq_neg[word] = 1"
      ],
      "execution_count": 574,
      "outputs": []
    },
    {
      "cell_type": "code",
      "metadata": {
        "id": "ru2Spbc7yzr8"
      },
      "source": [
        "final_vocab = dict()\n",
        "final_vocab_pos = dict()\n",
        "final_vocab_neg = dict()\n",
        "for word in wordfreq:\n",
        "    if wordfreq[word] > 850:\n",
        "        final_vocab[word] = wordfreq[word]\n",
        "    if word in wordfreq_pos:\n",
        "        if wordfreq_pos[word] > 850:\n",
        "            final_vocab_pos[word] = wordfreq_pos[word]\n",
        "    if word in wordfreq_neg:\n",
        "        if wordfreq_neg[word] > 850:\n",
        "            final_vocab_neg[word] = wordfreq_neg[word]"
      ],
      "execution_count": 575,
      "outputs": []
    },
    {
      "cell_type": "code",
      "metadata": {
        "id": "lwPXPG8Jy95k"
      },
      "source": [
        "prob_word = dict()\n",
        "prob_word_g_pos = dict()\n",
        "prob_word_g_neg = dict()\n",
        "\n",
        "for word in final_vocab:\n",
        "    prob_word[word] = final_vocab[word] / df_train_len\n",
        "    if word in final_vocab_pos:\n",
        "        prob_word_g_pos[word] = final_vocab_pos[word] / df_train_pos_len\n",
        "        \n",
        "    if word in final_vocab_neg:\n",
        "        prob_word_g_neg[word] = final_vocab_neg[word] / df_train_neg_len"
      ],
      "execution_count": 576,
      "outputs": []
    },
    {
      "cell_type": "code",
      "metadata": {
        "id": "PQ0sxEMwfwiO",
        "colab": {
          "base_uri": "https://localhost:8080/"
        },
        "outputId": "694ca0ac-75aa-4d85-e233-9989e84bc67b"
      },
      "source": [
        "accuracy_normal = []\n",
        "df_dev_arr = np.array_split(df_dev, 5)\n",
        "ctr = 0\n",
        "\n",
        "print(\"Accuracy using 5-Fold Cross Validation:\")\n",
        "\n",
        "for df in df_dev_arr:\n",
        "    count = 0\n",
        "    ctr += 1\n",
        "    predicted_sentiments = []\n",
        "    prob_pos_g_wir = dict()\n",
        "    prob_neg_g_wir = dict()\n",
        "    \n",
        "    for ind in df.index:\n",
        "        numPos = 0.00\n",
        "        numNeg = 0.00\n",
        "        \n",
        "        review_set = set(df['text'][ind].lower().split())\n",
        "        for word in review_set:\n",
        "            if word in prob_word:\n",
        "                if word not in prob_word_g_pos:\n",
        "                    numNeg = 0\n",
        "                elif word not in prob_word_g_neg:\n",
        "                    numPos = 0\n",
        "                else:\n",
        "                    numPos = numPos + math.log(prob_word_g_pos[word])\n",
        "                    numNeg = numNeg + math.log(prob_word_g_neg[word])\n",
        "                            \n",
        "        prob_pos_g_wir[ind] = pow(math.e, numPos) * prob_pos_train\n",
        "        prob_neg_g_wir[ind] = pow(math.e, numNeg) * prob_neg_train\n",
        "                            \n",
        "        if(prob_pos_g_wir[ind] < prob_neg_g_wir[ind]):\n",
        "            predicted_sentiments.append(0)\n",
        "        else:\n",
        "            predicted_sentiments.append(1)\n",
        "                                    \n",
        "    df['prediction'] = predicted_sentiments\n",
        "                                                                        \n",
        "    for ind in df.index:\n",
        "        if df['suicide'][ind] == df['prediction'][ind]:\n",
        "            count += 1\n",
        "                                            \n",
        "    accuracy = count / len(df)\n",
        "    accuracy_normal.append(accuracy)\n",
        "    print (ctr,\": Accuracy df_dev:\",accuracy*100,\"%\")"
      ],
      "execution_count": 577,
      "outputs": [
        {
          "output_type": "stream",
          "name": "stdout",
          "text": [
            "Accuracy using 5-Fold Cross Validation:\n",
            "1 : Accuracy df_dev: 49.41290531078315 %\n",
            "2 : Accuracy df_dev: 49.542173866207044 %\n",
            "3 : Accuracy df_dev: 49.20823009802866 %\n",
            "4 : Accuracy df_dev: 49.881503824194766 %\n",
            "5 : Accuracy df_dev: 48.77194872347302 %\n"
          ]
        }
      ]
    },
    {
      "cell_type": "code",
      "metadata": {
        "id": "avb53Jtj3jSP"
      },
      "source": [
        "prob_word_g_pos_smooth = dict()\n",
        "prob_word_g_neg_smooth = dict()\n",
        "\n",
        "for word in final_vocab:\n",
        "    if word in final_vocab_pos:\n",
        "        prob_word_g_pos_smooth[word] = (final_vocab_pos[word]+1) / (df_train_pos_len + len(final_vocab))\n",
        "        \n",
        "    if word in final_vocab_neg:\n",
        "        prob_word_g_neg_smooth[word] = (final_vocab_neg[word]+1) / (df_train_neg_len + len(final_vocab))"
      ],
      "execution_count": 578,
      "outputs": []
    },
    {
      "cell_type": "code",
      "metadata": {
        "id": "FXPJUemXfzEo",
        "colab": {
          "base_uri": "https://localhost:8080/"
        },
        "outputId": "e083420d-477e-4966-a4aa-a1d1a1ae2c07"
      },
      "source": [
        "accuracy_smooth = []\n",
        "df_dev_arr = np.array_split(df_dev, 5)\n",
        "ctr = 0\n",
        "\n",
        "print(\"Accuracy after Smoothing using 5-Fold Cross Validation:\")\n",
        "\n",
        "for df in df_dev_arr:\n",
        "    count = 0\n",
        "    ctr += 1\n",
        "    predicted_sentiments = []\n",
        "    prob_pos_g_wir = dict()\n",
        "    prob_neg_g_wir = dict()\n",
        "    \n",
        "    for ind in df.index:\n",
        "        numPos = 0.00\n",
        "        numNeg = 0.00\n",
        "        \n",
        "        review_set = set(df['text'][ind].lower().split())\n",
        "        for word in review_set:\n",
        "            if word in prob_word:\n",
        "                if word not in prob_word_g_pos:\n",
        "                    numNeg = 0\n",
        "                elif word not in prob_word_g_neg:\n",
        "                    numPos = 0\n",
        "                else:\n",
        "                    numPos = numPos + math.log(prob_word_g_pos_smooth[word])\n",
        "                    numNeg = numNeg + math.log(prob_word_g_neg_smooth[word])\n",
        "                            \n",
        "        prob_pos_g_wir[ind] = pow(math.e, numPos) * prob_pos_train\n",
        "        prob_neg_g_wir[ind] = pow(math.e, numNeg) * prob_neg_train\n",
        "                            \n",
        "        if(prob_pos_g_wir[ind] < prob_neg_g_wir[ind]):\n",
        "            predicted_sentiments.append(0)\n",
        "        else:\n",
        "            predicted_sentiments.append(1)\n",
        "                                    \n",
        "    df['prediction'] = predicted_sentiments\n",
        "                                                                        \n",
        "    for ind in df.index:\n",
        "        if df['suicide'][ind] == df['prediction'][ind]:\n",
        "            count += 1\n",
        "                                            \n",
        "    accuracy = count / len(df)\n",
        "    accuracy_smooth.append(accuracy)\n",
        "    print (ctr,\": Accuracy df_dev:\",accuracy*100,\"%\")"
      ],
      "execution_count": 579,
      "outputs": [
        {
          "output_type": "stream",
          "name": "stdout",
          "text": [
            "Accuracy after Smoothing using 5-Fold Cross Validation:\n",
            "1 : Accuracy df_dev: 49.41290531078315 %\n",
            "2 : Accuracy df_dev: 49.542173866207044 %\n",
            "3 : Accuracy df_dev: 49.20823009802866 %\n",
            "4 : Accuracy df_dev: 49.881503824194766 %\n",
            "5 : Accuracy df_dev: 48.77194872347302 %\n"
          ]
        }
      ]
    },
    {
      "cell_type": "code",
      "metadata": {
        "id": "zvErruLe3vbK",
        "colab": {
          "base_uri": "https://localhost:8080/"
        },
        "outputId": "7a8172b6-294d-4b07-a677-9d5a899f4a37"
      },
      "source": [
        "betterNormal = 0\n",
        "betterSmoothing = 0\n",
        "\n",
        "for i in range(len(accuracy_normal)):\n",
        "    if accuracy_normal[i] > accuracy_smooth[i]:\n",
        "        betterNormal += 1\n",
        "    else:\n",
        "        betterSmoothing +=1\n",
        "\n",
        "if(betterNormal > betterSmoothing):\n",
        "    print(\"For the given dev dataset, accuracy is better without smoothing\")\n",
        "else:\n",
        "    print(\"For the given dev dataset, accuracy is better with smoothing\")"
      ],
      "execution_count": 580,
      "outputs": [
        {
          "output_type": "stream",
          "name": "stdout",
          "text": [
            "For the given dev dataset, accuracy is better with smoothing\n"
          ]
        }
      ]
    },
    {
      "cell_type": "code",
      "metadata": {
        "id": "GJF903uP4Kkq"
      },
      "source": [
        "prob_pos_given_word = dict()\n",
        "prob_neg_given_word = dict()\n",
        "\n",
        "for word in final_vocab:\n",
        "    if word in final_vocab_pos:\n",
        "        prob_pos_given_word[word] = (prob_word_g_pos[word] * prob_pos_train) / prob_word[word]\n",
        "    if word in final_vocab_neg:\n",
        "        prob_neg_given_word[word] = (prob_word_g_neg[word] * prob_neg_train) / prob_word[word]"
      ],
      "execution_count": 581,
      "outputs": []
    },
    {
      "cell_type": "code",
      "metadata": {
        "id": "2anqMPGs4PmL",
        "colab": {
          "base_uri": "https://localhost:8080/"
        },
        "outputId": "68bc2a64-316b-4c99-a114-5afcf1e131f2"
      },
      "source": [
        "print(\"Top 10 words predicting positive class:\")\n",
        "prob_pos_given_word = sorted(prob_pos_given_word.items(), key=operator.itemgetter(1), reverse=True)\n",
        "\n",
        "\n",
        "prob_pos_given_word[:10]"
      ],
      "execution_count": 582,
      "outputs": [
        {
          "output_type": "stream",
          "name": "stdout",
          "text": [
            "Top 10 words predicting positive class:\n"
          ]
        },
        {
          "output_type": "execute_result",
          "data": {
            "text/plain": [
              "[('your', 0.5429149797570849),\n",
              " ('you', 0.5283708686750511),\n",
              " ('we', 0.45490584737363726),\n",
              " ('i', 0.4213099779700177),\n",
              " ('a', 0.4168080386271695),\n",
              " ('i’m', 0.4142235123367199),\n",
              " ('and', 0.3934108527131782),\n",
              " ('the', 0.38907096515283257),\n",
              " ('are', 0.38364424345204445),\n",
              " ('to', 0.3834221155534742)]"
            ]
          },
          "metadata": {},
          "execution_count": 582
        }
      ]
    },
    {
      "cell_type": "code",
      "metadata": {
        "id": "Dr2rhoKs4mnR",
        "colab": {
          "base_uri": "https://localhost:8080/"
        },
        "outputId": "11c02ecd-84b6-418e-81b3-c81c7b12c755"
      },
      "source": [
        "print(\"Top 10 words predicting negative class:\")\n",
        "prob_neg_given_word = sorted(prob_neg_given_word.items(), key=operator.itemgetter(1), reverse=True)\n",
        "\n",
        "prob_neg_given_word[:10]"
      ],
      "execution_count": 583,
      "outputs": [
        {
          "output_type": "stream",
          "name": "stdout",
          "text": [
            "Top 10 words predicting negative class:\n"
          ]
        },
        {
          "output_type": "execute_result",
          "data": {
            "text/plain": [
              "[('suicidal', 0.9751908396946563),\n",
              " ('suicide', 0.9689922480620154),\n",
              " ('killing', 0.9628796400449943),\n",
              " ('kill', 0.945713216023961),\n",
              " ('depression', 0.9435028248587569),\n",
              " ('pain', 0.9296730413325106),\n",
              " ('die', 0.9272986457590876),\n",
              " ('living', 0.9240271772699197),\n",
              " ('thoughts', 0.922919508867667),\n",
              " ('job', 0.9225526641883519)]"
            ]
          },
          "metadata": {},
          "execution_count": 583
        }
      ]
    },
    {
      "cell_type": "code",
      "metadata": {
        "id": "cO9MaoBL4tuT",
        "colab": {
          "base_uri": "https://localhost:8080/"
        },
        "outputId": "45e825e5-9018-497c-e8cf-e0de032b4f10"
      },
      "source": [
        "predicted_sentiments = []\n",
        "prob_pos_g_wir = dict()\n",
        "prob_neg_g_wir = dict()\n",
        "\n",
        "if(betterNormal < betterSmoothing):\n",
        "    prob_word_g_pos = prob_word_g_pos_smooth\n",
        "\n",
        "for ind in df_test.index:\n",
        "    numPos = 0.00\n",
        "    numNeg = 0.00\n",
        "    \n",
        "    review_set = set(df_test['text'][ind].lower().split())\n",
        "    for word in review_set:\n",
        "        if word in prob_word:\n",
        "            if word not in prob_word_g_pos:\n",
        "                numNeg = 0\n",
        "            elif word not in prob_word_g_neg:\n",
        "                numPos = 0\n",
        "            else:\n",
        "                numPos = numPos + math.log(prob_word_g_pos[word])\n",
        "                numNeg = numNeg + math.log(prob_word_g_neg[word])\n",
        "    \n",
        "    prob_pos_g_wir[ind] = pow(math.e, numPos) * prob_pos_train\n",
        "    prob_neg_g_wir[ind] = pow(math.e, numNeg) * prob_neg_train\n",
        "    \n",
        "    if(prob_pos_g_wir[ind] < prob_neg_g_wir[ind]):\n",
        "        predicted_sentiments.append(0)\n",
        "    else:\n",
        "        predicted_sentiments.append(1)\n",
        "        \n",
        "df_test['prediction'] = predicted_sentiments\n",
        "\n",
        "count = 0\n",
        "\n",
        "for ind in df_test.index:\n",
        "    if df_test['suicide'][ind] == df_test['prediction'][ind]:\n",
        "        count += 1\n",
        "        \n",
        "accuracy = count / len(df_test)\n",
        "print (\"Accuracy df_test:\",accuracy*100,\"%\")"
      ],
      "execution_count": 584,
      "outputs": [
        {
          "output_type": "stream",
          "name": "stderr",
          "text": [
            "/usr/local/lib/python3.7/dist-packages/ipykernel_launcher.py:31: SettingWithCopyWarning: \n",
            "A value is trying to be set on a copy of a slice from a DataFrame.\n",
            "Try using .loc[row_indexer,col_indexer] = value instead\n",
            "\n",
            "See the caveats in the documentation: https://pandas.pydata.org/pandas-docs/stable/user_guide/indexing.html#returning-a-view-versus-a-copy\n"
          ]
        },
        {
          "output_type": "stream",
          "name": "stdout",
          "text": [
            "Accuracy df_test: 49.621241500555854 %\n"
          ]
        }
      ]
    },
    {
      "cell_type": "code",
      "metadata": {
        "id": "JFjNxV4REqcL"
      },
      "source": [
        "#input_review = input('Enter your text: ') \n",
        "#abc1=0\n",
        "#abc2=0\n",
        "#for s1 in input_review.index:\n",
        " #   review_set = set(input_review['text'][s1].lower().split())\n",
        "  #  for word in final_vocab_pos:\n",
        "   #     abc1=(final_vocab_pos[word]+1) / (df_train_pos_len + len(final_vocab))\n",
        "    #for word in final_vocab_neg:\n",
        "     #   abc2=(final_vocab_neg[word]+1) / (df_train_neg_len + len(final_vocab))\n",
        "#if abc1>abc2:\n",
        " # print (\"Person is not Suicidal\")\n",
        "#else:\n",
        " # print (\"Person is Suicidal\")"
      ],
      "execution_count": 585,
      "outputs": []
    }
  ]
}